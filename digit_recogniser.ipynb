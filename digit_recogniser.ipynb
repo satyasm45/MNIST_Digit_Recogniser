{
 "cells": [
  {
   "cell_type": "code",
   "execution_count": 1,
   "metadata": {
    "_cell_guid": "b1076dfc-b9ad-4769-8c92-a6c4dae69d19",
    "_uuid": "8f2839f25d086af736a60e9eeb907d3b93b6e0e5",
    "execution": {
     "iopub.execute_input": "2020-12-25T13:36:48.951193Z",
     "iopub.status.busy": "2020-12-25T13:36:48.950091Z",
     "iopub.status.idle": "2020-12-25T13:36:54.149835Z",
     "shell.execute_reply": "2020-12-25T13:36:54.148195Z"
    },
    "papermill": {
     "duration": 5.219707,
     "end_time": "2020-12-25T13:36:54.149966",
     "exception": false,
     "start_time": "2020-12-25T13:36:48.930259",
     "status": "completed"
    },
    "tags": []
   },
   "outputs": [
    {
     "name": "stdout",
     "output_type": "stream",
     "text": [
      "/kaggle/input/digit-recognizer/sample_submission.csv\n",
      "/kaggle/input/digit-recognizer/train.csv\n",
      "/kaggle/input/digit-recognizer/test.csv\n"
     ]
    }
   ],
   "source": [
    "# This Python 3 environment comes with many helpful analytics libraries installed\n",
    "# It is defined by the kaggle/python Docker image: https://github.com/kaggle/docker-python\n",
    "# For example, here's several helpful packages to load\n",
    "\n",
    "import numpy as np # linear algebra\n",
    "import pandas as pd # data processing, CSV file I/O (e.g. pd.read_csv)\n",
    "\n",
    "# Input data files are available in the read-only \"../input/\" directory\n",
    "# For example, running this (by clicking run or pressing Shift+Enter) will list all files under the input directory\n",
    "\n",
    "import os\n",
    "for dirname, _, filenames in os.walk('/kaggle/input'):\n",
    "    for filename in filenames:\n",
    "        print(os.path.join(dirname, filename))\n",
    "import tensorflow as tf\n",
    "from tensorflow.keras.models import *\n",
    "from tensorflow.keras.layers import *\n",
    "from tensorflow.keras.optimizers import *\n",
    "from tensorflow.keras.utils import *\n",
    "import matplotlib.pyplot as plt\n",
    "from sklearn.model_selection import train_test_split\n",
    "\n",
    "# You can write up to 20GB to the current directory (/kaggle/working/) that gets preserved as output when you create a version using \"Save & Run All\" \n",
    "# You can also write temporary files to /kaggle/temp/, but they won't be saved outside of the current session"
   ]
  },
  {
   "cell_type": "code",
   "execution_count": 2,
   "metadata": {
    "_cell_guid": "79c7e3d0-c299-4dcb-8224-4455121ee9b0",
    "_uuid": "d629ff2d2480ee46fbb7e2d37f6b5fab8052498a",
    "execution": {
     "iopub.execute_input": "2020-12-25T13:36:54.181797Z",
     "iopub.status.busy": "2020-12-25T13:36:54.181165Z",
     "iopub.status.idle": "2020-12-25T13:37:00.844200Z",
     "shell.execute_reply": "2020-12-25T13:37:00.843032Z"
    },
    "papermill": {
     "duration": 6.682402,
     "end_time": "2020-12-25T13:37:00.844318",
     "exception": false,
     "start_time": "2020-12-25T13:36:54.161916",
     "status": "completed"
    },
    "tags": []
   },
   "outputs": [],
   "source": [
    "train=pd.read_csv('/kaggle/input/digit-recognizer/train.csv')\n",
    "test=pd.read_csv('/kaggle/input/digit-recognizer/test.csv')"
   ]
  },
  {
   "cell_type": "code",
   "execution_count": 3,
   "metadata": {
    "execution": {
     "iopub.execute_input": "2020-12-25T13:37:00.874466Z",
     "iopub.status.busy": "2020-12-25T13:37:00.873744Z",
     "iopub.status.idle": "2020-12-25T13:37:00.878398Z",
     "shell.execute_reply": "2020-12-25T13:37:00.877802Z"
    },
    "papermill": {
     "duration": 0.022873,
     "end_time": "2020-12-25T13:37:00.878502",
     "exception": false,
     "start_time": "2020-12-25T13:37:00.855629",
     "status": "completed"
    },
    "tags": []
   },
   "outputs": [],
   "source": [
    "Y_train=train[\"label\"].values"
   ]
  },
  {
   "cell_type": "code",
   "execution_count": 4,
   "metadata": {
    "execution": {
     "iopub.execute_input": "2020-12-25T13:37:00.908850Z",
     "iopub.status.busy": "2020-12-25T13:37:00.907353Z",
     "iopub.status.idle": "2020-12-25T13:37:01.006382Z",
     "shell.execute_reply": "2020-12-25T13:37:01.006948Z"
    },
    "papermill": {
     "duration": 0.117867,
     "end_time": "2020-12-25T13:37:01.007094",
     "exception": false,
     "start_time": "2020-12-25T13:37:00.889227",
     "status": "completed"
    },
    "tags": []
   },
   "outputs": [],
   "source": [
    "X_train = train.loc[:,'pixel0':'pixel783'].values\n",
    "X_train = np.array(X_train)\n",
    "X_train = X_train.reshape([-1,28,28,1])\n",
    "Y_train = Y_train.reshape([-1,1])"
   ]
  },
  {
   "cell_type": "code",
   "execution_count": 5,
   "metadata": {
    "execution": {
     "iopub.execute_input": "2020-12-25T13:37:01.036095Z",
     "iopub.status.busy": "2020-12-25T13:37:01.034856Z",
     "iopub.status.idle": "2020-12-25T13:37:01.102283Z",
     "shell.execute_reply": "2020-12-25T13:37:01.101766Z"
    },
    "papermill": {
     "duration": 0.083941,
     "end_time": "2020-12-25T13:37:01.102392",
     "exception": false,
     "start_time": "2020-12-25T13:37:01.018451",
     "status": "completed"
    },
    "tags": []
   },
   "outputs": [],
   "source": [
    "X_test = test.loc[:,'pixel0':'pixel783'].values\n",
    "X_test = np.array(X_test)\n",
    "X_test = X_test.reshape([-1,28,28,1])"
   ]
  },
  {
   "cell_type": "code",
   "execution_count": 6,
   "metadata": {
    "execution": {
     "iopub.execute_input": "2020-12-25T13:37:01.131054Z",
     "iopub.status.busy": "2020-12-25T13:37:01.130017Z",
     "iopub.status.idle": "2020-12-25T13:37:01.674728Z",
     "shell.execute_reply": "2020-12-25T13:37:01.673672Z"
    },
    "papermill": {
     "duration": 0.560378,
     "end_time": "2020-12-25T13:37:01.674850",
     "exception": false,
     "start_time": "2020-12-25T13:37:01.114472",
     "status": "completed"
    },
    "tags": []
   },
   "outputs": [],
   "source": [
    "X_train=X_train/255\n",
    "X_test=X_test/255\n",
    "X_train, X_val, Y_train, Y_val = train_test_split(X_train, Y_train, test_size = 0.1, random_state = 3)"
   ]
  },
  {
   "cell_type": "code",
   "execution_count": 7,
   "metadata": {
    "execution": {
     "iopub.execute_input": "2020-12-25T13:37:01.704804Z",
     "iopub.status.busy": "2020-12-25T13:37:01.702102Z",
     "iopub.status.idle": "2020-12-25T13:37:01.708120Z",
     "shell.execute_reply": "2020-12-25T13:37:01.708654Z"
    },
    "papermill": {
     "duration": 0.022328,
     "end_time": "2020-12-25T13:37:01.708787",
     "exception": false,
     "start_time": "2020-12-25T13:37:01.686459",
     "status": "completed"
    },
    "tags": []
   },
   "outputs": [
    {
     "name": "stdout",
     "output_type": "stream",
     "text": [
      "(37800, 10)\n",
      "(4200, 10)\n"
     ]
    }
   ],
   "source": [
    "Y_train=to_categorical(Y_train)\n",
    "Y_val=to_categorical(Y_val)\n",
    "print(Y_train.shape)\n",
    "print(Y_val.shape)"
   ]
  },
  {
   "cell_type": "code",
   "execution_count": 8,
   "metadata": {
    "execution": {
     "iopub.execute_input": "2020-12-25T13:37:01.743317Z",
     "iopub.status.busy": "2020-12-25T13:37:01.742754Z",
     "iopub.status.idle": "2020-12-25T13:37:04.610501Z",
     "shell.execute_reply": "2020-12-25T13:37:04.609939Z"
    },
    "papermill": {
     "duration": 2.890226,
     "end_time": "2020-12-25T13:37:04.610644",
     "exception": false,
     "start_time": "2020-12-25T13:37:01.720418",
     "status": "completed"
    },
    "tags": []
   },
   "outputs": [
    {
     "name": "stdout",
     "output_type": "stream",
     "text": [
      "Model: \"functional_1\"\n",
      "_________________________________________________________________\n",
      "Layer (type)                 Output Shape              Param #   \n",
      "=================================================================\n",
      "input_1 (InputLayer)         [(None, 28, 28, 1)]       0         \n",
      "_________________________________________________________________\n",
      "conv2d (Conv2D)              (None, 28, 28, 64)        640       \n",
      "_________________________________________________________________\n",
      "conv2d_1 (Conv2D)            (None, 28, 28, 64)        36928     \n",
      "_________________________________________________________________\n",
      "conv2d_2 (Conv2D)            (None, 28, 28, 128)       73856     \n",
      "_________________________________________________________________\n",
      "max_pooling2d (MaxPooling2D) (None, 14, 14, 128)       0         \n",
      "_________________________________________________________________\n",
      "conv2d_3 (Conv2D)            (None, 14, 14, 128)       147584    \n",
      "_________________________________________________________________\n",
      "conv2d_4 (Conv2D)            (None, 14, 14, 256)       819456    \n",
      "_________________________________________________________________\n",
      "max_pooling2d_1 (MaxPooling2 (None, 7, 7, 256)         0         \n",
      "_________________________________________________________________\n",
      "conv2d_5 (Conv2D)            (None, 7, 7, 256)         1638656   \n",
      "_________________________________________________________________\n",
      "flatten (Flatten)            (None, 12544)             0         \n",
      "_________________________________________________________________\n",
      "dense (Dense)                (None, 512)               6423040   \n",
      "_________________________________________________________________\n",
      "dense_1 (Dense)              (None, 128)               65664     \n",
      "_________________________________________________________________\n",
      "dense_2 (Dense)              (None, 64)                8256      \n",
      "_________________________________________________________________\n",
      "dense_3 (Dense)              (None, 10)                650       \n",
      "=================================================================\n",
      "Total params: 9,214,730\n",
      "Trainable params: 9,214,730\n",
      "Non-trainable params: 0\n",
      "_________________________________________________________________\n",
      "None\n"
     ]
    }
   ],
   "source": [
    "inputs=Input(shape=(28,28,1))\n",
    "conv0 = Conv2D(64, 3, padding = 'same', activation = 'tanh')(inputs)\n",
    "conv1 = Conv2D(64, 3, padding='same', activation='tanh')(conv0)\n",
    "conv2 = Conv2D(128, 3, padding='same', activation='tanh')(conv1)\n",
    "pool2 = MaxPooling2D((2,2))(conv2)\n",
    "conv3 = Conv2D(128, 3, padding='same', activation='tanh')(pool2)\n",
    "conv4 = Conv2D(256, 5, padding='same', activation='tanh')(conv3)\n",
    "pool4 = MaxPooling2D((2,2))(conv4)\n",
    "conv5 = Conv2D(256, 5, padding='same', activation='tanh')(pool4)\n",
    "flat = Flatten()(conv5)\n",
    "dense0 = Dense(512, activation='relu')(flat)\n",
    "dense1 = Dense(128, activation='relu')(dense0)\n",
    "dense2 = Dense(64, activation='relu')(dense1)\n",
    "dense3 = Dense(10, activation='softmax')(dense2)\n",
    "\n",
    "model = Model(inputs,dense3)\n",
    "print(model.summary())"
   ]
  },
  {
   "cell_type": "code",
   "execution_count": 9,
   "metadata": {
    "execution": {
     "iopub.execute_input": "2020-12-25T13:37:04.647368Z",
     "iopub.status.busy": "2020-12-25T13:37:04.646808Z",
     "iopub.status.idle": "2020-12-25T13:39:48.818995Z",
     "shell.execute_reply": "2020-12-25T13:39:48.818430Z"
    },
    "papermill": {
     "duration": 164.194991,
     "end_time": "2020-12-25T13:39:48.819113",
     "exception": false,
     "start_time": "2020-12-25T13:37:04.624122",
     "status": "completed"
    },
    "tags": []
   },
   "outputs": [
    {
     "name": "stdout",
     "output_type": "stream",
     "text": [
      "Epoch 1/20\n",
      "189/189 [==============================] - 8s 43ms/step - loss: 0.3690 - accuracy: 0.9024 - val_loss: 0.1038 - val_accuracy: 0.9683\n",
      "Epoch 2/20\n",
      "189/189 [==============================] - 8s 42ms/step - loss: 0.0818 - accuracy: 0.9743 - val_loss: 0.0955 - val_accuracy: 0.9738\n",
      "Epoch 3/20\n",
      "189/189 [==============================] - 8s 42ms/step - loss: 0.0599 - accuracy: 0.9813 - val_loss: 0.0681 - val_accuracy: 0.9800\n",
      "Epoch 4/20\n",
      "189/189 [==============================] - 8s 42ms/step - loss: 0.0485 - accuracy: 0.9855 - val_loss: 0.0820 - val_accuracy: 0.9774\n",
      "Epoch 5/20\n",
      "189/189 [==============================] - 8s 42ms/step - loss: 0.0528 - accuracy: 0.9843 - val_loss: 0.1037 - val_accuracy: 0.9740\n",
      "Epoch 6/20\n",
      "189/189 [==============================] - 8s 42ms/step - loss: 0.0469 - accuracy: 0.9860 - val_loss: 0.1017 - val_accuracy: 0.9769\n",
      "Epoch 7/20\n",
      "189/189 [==============================] - 8s 43ms/step - loss: 0.0347 - accuracy: 0.9897 - val_loss: 0.0682 - val_accuracy: 0.9843\n",
      "Epoch 8/20\n",
      "189/189 [==============================] - 8s 42ms/step - loss: 0.0265 - accuracy: 0.9923 - val_loss: 0.0882 - val_accuracy: 0.9781\n",
      "Epoch 9/20\n",
      "189/189 [==============================] - 8s 42ms/step - loss: 0.0272 - accuracy: 0.9923 - val_loss: 0.0877 - val_accuracy: 0.9821\n",
      "Epoch 10/20\n",
      "189/189 [==============================] - 8s 42ms/step - loss: 0.0351 - accuracy: 0.9904 - val_loss: 0.0962 - val_accuracy: 0.9779\n",
      "Epoch 11/20\n",
      "189/189 [==============================] - 8s 42ms/step - loss: 0.0247 - accuracy: 0.9934 - val_loss: 0.0804 - val_accuracy: 0.9845\n",
      "Epoch 12/20\n",
      "189/189 [==============================] - 8s 42ms/step - loss: 0.0198 - accuracy: 0.9942 - val_loss: 0.0679 - val_accuracy: 0.9860\n",
      "Epoch 13/20\n",
      "189/189 [==============================] - 8s 42ms/step - loss: 0.0178 - accuracy: 0.9946 - val_loss: 0.0808 - val_accuracy: 0.9848\n",
      "Epoch 14/20\n",
      "189/189 [==============================] - 8s 42ms/step - loss: 0.0178 - accuracy: 0.9949 - val_loss: 0.0831 - val_accuracy: 0.9843\n",
      "Epoch 15/20\n",
      "189/189 [==============================] - 8s 45ms/step - loss: 0.0231 - accuracy: 0.9933 - val_loss: 0.0760 - val_accuracy: 0.9860\n",
      "Epoch 16/20\n",
      "189/189 [==============================] - 8s 42ms/step - loss: 0.0193 - accuracy: 0.9947 - val_loss: 0.0752 - val_accuracy: 0.9824\n",
      "Epoch 17/20\n",
      "189/189 [==============================] - 8s 42ms/step - loss: 0.0164 - accuracy: 0.9951 - val_loss: 0.0770 - val_accuracy: 0.9864\n",
      "Epoch 18/20\n",
      "189/189 [==============================] - 8s 42ms/step - loss: 0.0184 - accuracy: 0.9946 - val_loss: 0.0797 - val_accuracy: 0.9869\n",
      "Epoch 19/20\n",
      "189/189 [==============================] - 8s 43ms/step - loss: 0.0222 - accuracy: 0.9940 - val_loss: 0.0646 - val_accuracy: 0.9876\n",
      "Epoch 20/20\n",
      "189/189 [==============================] - 8s 42ms/step - loss: 0.0159 - accuracy: 0.9957 - val_loss: 0.0861 - val_accuracy: 0.9860\n"
     ]
    }
   ],
   "source": [
    "model.compile(Adam(lr = 10e-4), loss = 'categorical_crossentropy', metrics = ['accuracy'])\n",
    "history = model.fit(X_train, Y_train, epochs = 20, batch_size = 200, validation_data = (X_val, Y_val), verbose = 1)"
   ]
  },
  {
   "cell_type": "code",
   "execution_count": 10,
   "metadata": {
    "execution": {
     "iopub.execute_input": "2020-12-25T13:39:50.190404Z",
     "iopub.status.busy": "2020-12-25T13:39:50.189264Z",
     "iopub.status.idle": "2020-12-25T13:39:53.661431Z",
     "shell.execute_reply": "2020-12-25T13:39:53.660139Z"
    },
    "papermill": {
     "duration": 4.162369,
     "end_time": "2020-12-25T13:39:53.661573",
     "exception": false,
     "start_time": "2020-12-25T13:39:49.499204",
     "status": "completed"
    },
    "tags": []
   },
   "outputs": [
    {
     "name": "stdout",
     "output_type": "stream",
     "text": [
      "875/875 [==============================] - 3s 4ms/step\n"
     ]
    }
   ],
   "source": [
    "sol = model.predict(X_test, verbose = 1)"
   ]
  },
  {
   "cell_type": "code",
   "execution_count": 11,
   "metadata": {
    "execution": {
     "iopub.execute_input": "2020-12-25T13:39:55.075245Z",
     "iopub.status.busy": "2020-12-25T13:39:55.073959Z",
     "iopub.status.idle": "2020-12-25T13:39:55.079315Z",
     "shell.execute_reply": "2020-12-25T13:39:55.078735Z"
    },
    "papermill": {
     "duration": 0.716231,
     "end_time": "2020-12-25T13:39:55.079419",
     "exception": false,
     "start_time": "2020-12-25T13:39:54.363188",
     "status": "completed"
    },
    "tags": []
   },
   "outputs": [],
   "source": [
    "sol = np.argmax(sol, axis =1)"
   ]
  },
  {
   "cell_type": "code",
   "execution_count": 12,
   "metadata": {
    "execution": {
     "iopub.execute_input": "2020-12-25T13:39:56.490015Z",
     "iopub.status.busy": "2020-12-25T13:39:56.488709Z",
     "iopub.status.idle": "2020-12-25T13:39:56.492858Z",
     "shell.execute_reply": "2020-12-25T13:39:56.491983Z"
    },
    "papermill": {
     "duration": 0.708921,
     "end_time": "2020-12-25T13:39:56.493001",
     "exception": false,
     "start_time": "2020-12-25T13:39:55.784080",
     "status": "completed"
    },
    "tags": []
   },
   "outputs": [
    {
     "name": "stdout",
     "output_type": "stream",
     "text": [
      "[2 0 9 ... 3 9 2]\n"
     ]
    }
   ],
   "source": [
    "print(sol)"
   ]
  },
  {
   "cell_type": "code",
   "execution_count": 13,
   "metadata": {
    "execution": {
     "iopub.execute_input": "2020-12-25T13:39:57.906613Z",
     "iopub.status.busy": "2020-12-25T13:39:57.905955Z",
     "iopub.status.idle": "2020-12-25T13:39:57.910236Z",
     "shell.execute_reply": "2020-12-25T13:39:57.909590Z"
    },
    "papermill": {
     "duration": 0.713644,
     "end_time": "2020-12-25T13:39:57.910348",
     "exception": false,
     "start_time": "2020-12-25T13:39:57.196704",
     "status": "completed"
    },
    "tags": []
   },
   "outputs": [],
   "source": [
    "sol = pd.Series(sol, name = 'Label')\n",
    "index = pd.Series(range(1,28001), name = 'ImageID')\n",
    "submission = pd.concat([index, sol], axis = 1)"
   ]
  },
  {
   "cell_type": "code",
   "execution_count": 14,
   "metadata": {
    "execution": {
     "iopub.execute_input": "2020-12-25T13:39:59.327453Z",
     "iopub.status.busy": "2020-12-25T13:39:59.326419Z",
     "iopub.status.idle": "2020-12-25T13:39:59.583089Z",
     "shell.execute_reply": "2020-12-25T13:39:59.582470Z"
    },
    "papermill": {
     "duration": 0.969518,
     "end_time": "2020-12-25T13:39:59.583202",
     "exception": false,
     "start_time": "2020-12-25T13:39:58.613684",
     "status": "completed"
    },
    "tags": []
   },
   "outputs": [],
   "source": [
    "submission.to_csv(\"submission.csv\",index=False)"
   ]
  }
 ],
 "metadata": {
  "kernelspec": {
   "display_name": "Python 3",
   "language": "python",
   "name": "python3"
  },
  "language_info": {
   "codemirror_mode": {
    "name": "ipython",
    "version": 3
   },
   "file_extension": ".py",
   "mimetype": "text/x-python",
   "name": "python",
   "nbconvert_exporter": "python",
   "pygments_lexer": "ipython3",
   "version": "3.7.6"
  },
  "papermill": {
   "duration": 196.814711,
   "end_time": "2020-12-25T13:40:01.712462",
   "environment_variables": {},
   "exception": null,
   "input_path": "__notebook__.ipynb",
   "output_path": "__notebook__.ipynb",
   "parameters": {},
   "start_time": "2020-12-25T13:36:44.897751",
   "version": "2.1.0"
  }
 },
 "nbformat": 4,
 "nbformat_minor": 4
}
